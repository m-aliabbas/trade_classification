{
 "cells": [
  {
   "cell_type": "markdown",
   "id": "7719f58f-9178-4763-853a-71a3330042b4",
   "metadata": {
    "tags": []
   },
   "source": [
    "# Imports and Loading Data"
   ]
  },
  {
   "cell_type": "code",
   "execution_count": 1,
   "id": "9977de2b-7bcd-4b10-ba5c-f272cc9d61c7",
   "metadata": {},
   "outputs": [],
   "source": [
    "import pandas as pd"
   ]
  },
  {
   "cell_type": "code",
   "execution_count": 2,
   "id": "08af80ec-4fb5-4f9e-b764-2ac870dba502",
   "metadata": {},
   "outputs": [],
   "source": [
    "# from pandas_profiling import ProfileReport"
   ]
  },
  {
   "cell_type": "code",
   "execution_count": 3,
   "id": "d8b127d9-fedf-4a8e-9374-1f8b65a61e0c",
   "metadata": {},
   "outputs": [],
   "source": [
    "DATA_PATH = './Data/'"
   ]
  },
  {
   "cell_type": "code",
   "execution_count": 4,
   "id": "6b1687dd-6382-4837-ade4-51fb93375175",
   "metadata": {},
   "outputs": [],
   "source": [
    "OUTPUT_PATH = './Output/'"
   ]
  },
  {
   "cell_type": "code",
   "execution_count": 5,
   "id": "654cfb41-cdfc-4b15-aba5-6239cd4505d8",
   "metadata": {},
   "outputs": [
    {
     "name": "stderr",
     "output_type": "stream",
     "text": [
      "/tmp/ipykernel_125/1592553496.py:1: DtypeWarning: Columns (105,106) have mixed types. Specify dtype option on import or set low_memory=False.\n",
      "  df = pd.read_csv(f\"{DATA_PATH}Iddo_v7_5LA.csv\")\n"
     ]
    }
   ],
   "source": [
    "df = pd.read_csv(f\"{DATA_PATH}Iddo_v7_5LA.csv\")"
   ]
  },
  {
   "cell_type": "code",
   "execution_count": 6,
   "id": "28bfaf3b-8078-4556-8c0c-a0dd49e2495c",
   "metadata": {},
   "outputs": [],
   "source": [
    "# df_sample = df.sample(frac=0.1) # Selecting a sample to avoid session crash"
   ]
  },
  {
   "cell_type": "markdown",
   "id": "742d47f5-70a8-4e87-9784-29822ed2be34",
   "metadata": {
    "tags": []
   },
   "source": [
    "# EDA"
   ]
  },
  {
   "cell_type": "code",
   "execution_count": 7,
   "id": "d1921864-d393-4795-b326-9c1ed27e0b63",
   "metadata": {},
   "outputs": [],
   "source": [
    "# profile = ProfileReport(df_sample, title=\"Pandas Profiling Report\",minimal=True)"
   ]
  },
  {
   "cell_type": "code",
   "execution_count": 8,
   "id": "fb500dd7-28b8-4bb9-bb02-46085f4ebc83",
   "metadata": {},
   "outputs": [],
   "source": [
    "# df_sample.profile_report()"
   ]
  },
  {
   "cell_type": "code",
   "execution_count": 9,
   "id": "9c24429b-fe16-418b-938e-31404eac69ca",
   "metadata": {},
   "outputs": [],
   "source": [
    "# df_sample"
   ]
  },
  {
   "cell_type": "code",
   "execution_count": 10,
   "id": "3ae289b3-638d-450f-8768-ee780d3d9088",
   "metadata": {},
   "outputs": [],
   "source": [
    "# profile.to_file(\"trading_classification_report.html\")"
   ]
  },
  {
   "cell_type": "code",
   "execution_count": 11,
   "id": "76761aaf-d451-4920-b31d-bb6faa043e34",
   "metadata": {},
   "outputs": [],
   "source": [
    "# df_sample.head()"
   ]
  },
  {
   "cell_type": "markdown",
   "id": "009eb7ad-c7a3-4191-abd3-70a6977b00a0",
   "metadata": {
    "tags": []
   },
   "source": [
    "# Correlation Analysis"
   ]
  },
  {
   "cell_type": "markdown",
   "id": "3268fdcc-7b12-428c-86f2-ccc224aca27c",
   "metadata": {},
   "source": [
    "Correlation cofficent is too low. On 0.5 on Target column, 0.3 only 4 columns and 0.08 getting the following. These are not helpful directly"
   ]
  },
  {
   "cell_type": "code",
   "execution_count": 12,
   "id": "40e85871-d4da-4985-976b-7f29aecca993",
   "metadata": {},
   "outputs": [],
   "source": [
    "# # Assume that your_dataframe is a pandas DataFrame\n",
    "# correlations = df_sample.corrwith(df_sample['TOUCH']).abs()\n",
    "# features =  correlations[correlations > 0.08].index.tolist()"
   ]
  },
  {
   "cell_type": "code",
   "execution_count": 13,
   "id": "722e90d7-5b9b-4a88-93f3-5f62c20699c5",
   "metadata": {},
   "outputs": [],
   "source": [
    "# # getting a random sample\n",
    "# df2= df[100000:].sample(frac=0.03)"
   ]
  },
  {
   "cell_type": "code",
   "execution_count": 14,
   "id": "590dea80-6803-4c80-a08a-0a058e0d59d3",
   "metadata": {},
   "outputs": [],
   "source": [
    "# df2 = df2[features]"
   ]
  },
  {
   "cell_type": "code",
   "execution_count": 15,
   "id": "4d7649e1-44d5-41bc-8efa-6d0adda5cc0c",
   "metadata": {},
   "outputs": [],
   "source": [
    "# df2 = df2.dropna()\n",
    "# y_test = df2['TOUCH']\n",
    "# df2 = df2.drop(['TOUCH'],axis=1)\n"
   ]
  },
  {
   "cell_type": "code",
   "execution_count": 16,
   "id": "6383f88d-e7ca-4e28-a4d0-a60b1002b3cf",
   "metadata": {},
   "outputs": [],
   "source": [
    "# df1=df_sample[features]"
   ]
  },
  {
   "cell_type": "code",
   "execution_count": 17,
   "id": "93369048-08df-40da-84fc-20d1333a2e80",
   "metadata": {},
   "outputs": [
    {
     "name": "stdout",
     "output_type": "stream",
     "text": [
      "timestamp\n",
      "open_x\n",
      "high_x\n",
      "low_x\n",
      "close_x\n",
      "volume\n",
      "open_y\n",
      "high_y\n",
      "low_y\n",
      "close_y\n",
      "K\n",
      "L\n",
      "M\n",
      "N\n",
      "O\n",
      "P\n",
      "Q\n",
      "R\n",
      "S\n",
      "T\n",
      "U\n",
      "V\n",
      "W\n",
      "X\n",
      "Y\n",
      "Z\n",
      "AA\n",
      "AB\n",
      "AC\n",
      "AD\n",
      "AE\n",
      "AF\n",
      "AG\n",
      "AH\n",
      "AI\n",
      "AJ\n",
      "AK\n",
      "AL\n",
      "AM\n",
      "AN\n",
      "AO\n",
      "AP\n",
      "AQ\n",
      "AR\n",
      "AS\n",
      "AT\n",
      "AU\n",
      "AV\n",
      "AW\n",
      "AX\n",
      "AY\n",
      "AZ\n",
      "BA\n",
      "BB\n",
      "BC\n",
      "BD\n",
      "BE\n",
      "BF\n",
      "BG\n",
      "BI\n",
      "BJ\n",
      "BK\n",
      "BL\n",
      "BM\n",
      "BN\n",
      "BO\n",
      "BP\n",
      "BQ\n",
      "BR\n",
      "BS\n",
      "BT\n",
      "BU\n",
      "BV\n",
      "BW\n",
      "BX\n",
      "BY\n",
      "BZ\n",
      "CA\n",
      "CB\n",
      "CC\n",
      "CD\n",
      "CE\n",
      "CF\n",
      "CG\n",
      "CH\n",
      "CI\n",
      "CJ\n",
      "CK\n",
      "CL\n",
      "CM\n",
      "CN\n",
      "CO\n",
      "CP\n",
      "CQ\n",
      "CR\n",
      "CS\n",
      "CT\n",
      "CU\n",
      "CV\n",
      "CW\n",
      "CX\n",
      "CY\n",
      "CZ\n",
      "DA\n",
      "DB\n",
      "DC\n",
      "DD\n",
      "DE\n",
      "DF\n",
      "L_co\n",
      "O_co\n",
      "R_co\n",
      "AE_co\n",
      "AF_co\n",
      "AH_co\n",
      "AM_co\n",
      "AN_co\n",
      "AO_co\n",
      "AQ_co\n",
      "AT_co\n",
      "AU_co\n",
      "AV_co\n",
      "AW_co\n",
      "AX_co\n",
      "AY_co\n",
      "AZ_co\n",
      "BA_co\n",
      "BD_co\n",
      "BI_co\n",
      "BJ_co\n",
      "BK_co\n",
      "BQ_co\n",
      "BR_co\n",
      "BS_co\n",
      "BT_co\n",
      "BZ_co_upd\n",
      "CC_co_upd\n",
      "CI_co_upd\n",
      "EXP3\n",
      "EXP2\n",
      "EXP2EXT\n",
      "EXP2CAT05\n",
      "EXP2CAT03\n",
      "EXP2CAT1\n",
      "EXP2CAT2\n",
      "TOUCH\n"
     ]
    }
   ],
   "source": [
    "for i in df.columns:\n",
    "    print(i)"
   ]
  },
  {
   "cell_type": "markdown",
   "id": "e11a06af-3408-4c8f-8614-9077cfce317c",
   "metadata": {},
   "source": [
    "## Runing Random Forest On it. "
   ]
  },
  {
   "cell_type": "code",
   "execution_count": 18,
   "id": "03917d82-322b-4297-b195-cc642e25330b",
   "metadata": {},
   "outputs": [],
   "source": [
    "from sklearn.metrics import accuracy_score"
   ]
  },
  {
   "cell_type": "markdown",
   "id": "e487cacb-32fe-4925-8418-85655d76af80",
   "metadata": {},
   "source": [
    "# Splitting Train and Test"
   ]
  },
  {
   "cell_type": "code",
   "execution_count": 19,
   "id": "cc489f40-5b78-4903-a3b4-0e9212ddc74c",
   "metadata": {},
   "outputs": [],
   "source": [
    "from sklearn.model_selection import train_test_split"
   ]
  },
  {
   "cell_type": "code",
   "execution_count": 20,
   "id": "79337964-011b-47cd-8bae-48a7d157474d",
   "metadata": {},
   "outputs": [],
   "source": [
    "from sklearn.ensemble import RandomForestClassifier "
   ]
  },
  {
   "cell_type": "code",
   "execution_count": 21,
   "id": "9bc07662-6b6f-449f-abe6-3bbd4ef12bf6",
   "metadata": {},
   "outputs": [],
   "source": [
    "# getting data type of all columns and deleting object column\n",
    "# for column in df.columns:\n",
    "#     print(column,df[column].dtype)"
   ]
  },
  {
   "cell_type": "code",
   "execution_count": 22,
   "id": "f427d4e7-4e6e-4b2e-aead-55ac30127114",
   "metadata": {},
   "outputs": [],
   "source": [
    "df = df.dropna()"
   ]
  },
  {
   "cell_type": "code",
   "execution_count": 23,
   "id": "8116699a-3962-441d-ae8a-09dcdb56e0aa",
   "metadata": {},
   "outputs": [],
   "source": [
    "df=df[df['EXP2CAT1']!=0.0]"
   ]
  },
  {
   "cell_type": "code",
   "execution_count": 24,
   "id": "d46ad7c5-291c-42d1-97e2-469fcec1fe22",
   "metadata": {},
   "outputs": [],
   "source": [
    "target = df['EXP2CAT1']"
   ]
  },
  {
   "cell_type": "code",
   "execution_count": 25,
   "id": "d18c1777-3875-4568-a331-5b592d48e971",
   "metadata": {},
   "outputs": [],
   "source": [
    "X = df.drop(['timestamp','DD','DC','EXP3','EXP2','EXP2EXT','EXP2CAT05','EXP2CAT03','EXP2CAT1','EXP2CAT2'],axis=1)"
   ]
  },
  {
   "cell_type": "code",
   "execution_count": 26,
   "id": "c0efb251-69eb-45d9-91e8-2dbd5fd076d0",
   "metadata": {},
   "outputs": [],
   "source": [
    "X_train,X_test,y_train,y_test = train_test_split(X,target, test_size=0.15, random_state=42)"
   ]
  },
  {
   "cell_type": "code",
   "execution_count": 27,
   "id": "addc7cc8-1d20-4a74-85b9-c291cfbf51f9",
   "metadata": {},
   "outputs": [
    {
     "data": {
      "text/plain": [
       "((278693, 136), (49182, 136), (278693,), (49182,))"
      ]
     },
     "execution_count": 27,
     "metadata": {},
     "output_type": "execute_result"
    }
   ],
   "source": [
    "X_train.shape,X_test.shape,y_train.shape,y_test.shape"
   ]
  },
  {
   "cell_type": "markdown",
   "id": "27a844c9-c335-4a54-957f-cca05c38abbe",
   "metadata": {},
   "source": [
    "# Random Forest Classification"
   ]
  },
  {
   "cell_type": "markdown",
   "id": "a0d0fbf6-b7ce-4aae-8901-2851cd43cdc7",
   "metadata": {},
   "source": [
    "## Before Feature Selection"
   ]
  },
  {
   "cell_type": "code",
   "execution_count": 29,
   "id": "3dd492b2-8f50-4acf-b3de-3baa4e0fd5af",
   "metadata": {},
   "outputs": [],
   "source": [
    "from sklearn.ensemble import RandomForestClassifier\n",
    "from sklearn.metrics import classification_report, accuracy_score,f1_score"
   ]
  },
  {
   "cell_type": "code",
   "execution_count": 30,
   "id": "ff21fb87-5790-41c8-b6c2-b6b6efe95440",
   "metadata": {},
   "outputs": [],
   "source": [
    "import matplotlib.pyplot as plt\n",
    "import numpy as np"
   ]
  },
  {
   "cell_type": "code",
   "execution_count": 31,
   "id": "7ed53fc2-f03a-411f-8d07-3a685b528bf7",
   "metadata": {},
   "outputs": [],
   "source": [
    "rfc = RandomForestClassifier(n_estimators=100, max_depth=None, min_samples_split=2, min_samples_leaf=1, max_features='sqrt', random_state=42)"
   ]
  },
  {
   "cell_type": "code",
   "execution_count": 32,
   "id": "eb8b728a-f5b7-46ca-9a4e-bcc91fa9005f",
   "metadata": {},
   "outputs": [
    {
     "data": {
      "text/html": [
       "<style>#sk-container-id-1 {color: black;background-color: white;}#sk-container-id-1 pre{padding: 0;}#sk-container-id-1 div.sk-toggleable {background-color: white;}#sk-container-id-1 label.sk-toggleable__label {cursor: pointer;display: block;width: 100%;margin-bottom: 0;padding: 0.3em;box-sizing: border-box;text-align: center;}#sk-container-id-1 label.sk-toggleable__label-arrow:before {content: \"▸\";float: left;margin-right: 0.25em;color: #696969;}#sk-container-id-1 label.sk-toggleable__label-arrow:hover:before {color: black;}#sk-container-id-1 div.sk-estimator:hover label.sk-toggleable__label-arrow:before {color: black;}#sk-container-id-1 div.sk-toggleable__content {max-height: 0;max-width: 0;overflow: hidden;text-align: left;background-color: #f0f8ff;}#sk-container-id-1 div.sk-toggleable__content pre {margin: 0.2em;color: black;border-radius: 0.25em;background-color: #f0f8ff;}#sk-container-id-1 input.sk-toggleable__control:checked~div.sk-toggleable__content {max-height: 200px;max-width: 100%;overflow: auto;}#sk-container-id-1 input.sk-toggleable__control:checked~label.sk-toggleable__label-arrow:before {content: \"▾\";}#sk-container-id-1 div.sk-estimator input.sk-toggleable__control:checked~label.sk-toggleable__label {background-color: #d4ebff;}#sk-container-id-1 div.sk-label input.sk-toggleable__control:checked~label.sk-toggleable__label {background-color: #d4ebff;}#sk-container-id-1 input.sk-hidden--visually {border: 0;clip: rect(1px 1px 1px 1px);clip: rect(1px, 1px, 1px, 1px);height: 1px;margin: -1px;overflow: hidden;padding: 0;position: absolute;width: 1px;}#sk-container-id-1 div.sk-estimator {font-family: monospace;background-color: #f0f8ff;border: 1px dotted black;border-radius: 0.25em;box-sizing: border-box;margin-bottom: 0.5em;}#sk-container-id-1 div.sk-estimator:hover {background-color: #d4ebff;}#sk-container-id-1 div.sk-parallel-item::after {content: \"\";width: 100%;border-bottom: 1px solid gray;flex-grow: 1;}#sk-container-id-1 div.sk-label:hover label.sk-toggleable__label {background-color: #d4ebff;}#sk-container-id-1 div.sk-serial::before {content: \"\";position: absolute;border-left: 1px solid gray;box-sizing: border-box;top: 0;bottom: 0;left: 50%;z-index: 0;}#sk-container-id-1 div.sk-serial {display: flex;flex-direction: column;align-items: center;background-color: white;padding-right: 0.2em;padding-left: 0.2em;position: relative;}#sk-container-id-1 div.sk-item {position: relative;z-index: 1;}#sk-container-id-1 div.sk-parallel {display: flex;align-items: stretch;justify-content: center;background-color: white;position: relative;}#sk-container-id-1 div.sk-item::before, #sk-container-id-1 div.sk-parallel-item::before {content: \"\";position: absolute;border-left: 1px solid gray;box-sizing: border-box;top: 0;bottom: 0;left: 50%;z-index: -1;}#sk-container-id-1 div.sk-parallel-item {display: flex;flex-direction: column;z-index: 1;position: relative;background-color: white;}#sk-container-id-1 div.sk-parallel-item:first-child::after {align-self: flex-end;width: 50%;}#sk-container-id-1 div.sk-parallel-item:last-child::after {align-self: flex-start;width: 50%;}#sk-container-id-1 div.sk-parallel-item:only-child::after {width: 0;}#sk-container-id-1 div.sk-dashed-wrapped {border: 1px dashed gray;margin: 0 0.4em 0.5em 0.4em;box-sizing: border-box;padding-bottom: 0.4em;background-color: white;}#sk-container-id-1 div.sk-label label {font-family: monospace;font-weight: bold;display: inline-block;line-height: 1.2em;}#sk-container-id-1 div.sk-label-container {text-align: center;}#sk-container-id-1 div.sk-container {/* jupyter's `normalize.less` sets `[hidden] { display: none; }` but bootstrap.min.css set `[hidden] { display: none !important; }` so we also need the `!important` here to be able to override the default hidden behavior on the sphinx rendered scikit-learn.org. See: https://github.com/scikit-learn/scikit-learn/issues/21755 */display: inline-block !important;position: relative;}#sk-container-id-1 div.sk-text-repr-fallback {display: none;}</style><div id=\"sk-container-id-1\" class=\"sk-top-container\"><div class=\"sk-text-repr-fallback\"><pre>RandomForestClassifier(random_state=42)</pre><b>In a Jupyter environment, please rerun this cell to show the HTML representation or trust the notebook. <br />On GitHub, the HTML representation is unable to render, please try loading this page with nbviewer.org.</b></div><div class=\"sk-container\" hidden><div class=\"sk-item\"><div class=\"sk-estimator sk-toggleable\"><input class=\"sk-toggleable__control sk-hidden--visually\" id=\"sk-estimator-id-1\" type=\"checkbox\" checked><label for=\"sk-estimator-id-1\" class=\"sk-toggleable__label sk-toggleable__label-arrow\">RandomForestClassifier</label><div class=\"sk-toggleable__content\"><pre>RandomForestClassifier(random_state=42)</pre></div></div></div></div></div>"
      ],
      "text/plain": [
       "RandomForestClassifier(random_state=42)"
      ]
     },
     "execution_count": 32,
     "metadata": {},
     "output_type": "execute_result"
    }
   ],
   "source": [
    "rfc.fit(X_train, y_train)"
   ]
  },
  {
   "cell_type": "code",
   "execution_count": 33,
   "id": "f6d8bb09-b6e2-44eb-8c3a-99b5db7f6a4a",
   "metadata": {},
   "outputs": [],
   "source": [
    "y_pred = rfc.predict(X_test)"
   ]
  },
  {
   "cell_type": "code",
   "execution_count": 34,
   "id": "a564ef39-6ff0-422b-ab1f-534eddd8b824",
   "metadata": {},
   "outputs": [
    {
     "name": "stdout",
     "output_type": "stream",
     "text": [
      "              precision    recall  f1-score   support\n",
      "\n",
      "         1.0       1.00      1.00      1.00     23062\n",
      "         2.0       1.00      1.00      1.00     26120\n",
      "\n",
      "    accuracy                           1.00     49182\n",
      "   macro avg       1.00      1.00      1.00     49182\n",
      "weighted avg       1.00      1.00      1.00     49182\n",
      "\n",
      "Accuracy Score:  0.9962384612256516\n",
      "F1 Score:  0.9959895076849703\n"
     ]
    },
    {
     "data": {
      "text/plain": [
       "(None, None, None)"
      ]
     },
     "execution_count": 34,
     "metadata": {},
     "output_type": "execute_result"
    }
   ],
   "source": [
    "print(classification_report(y_pred,y_test)),print('Accuracy Score: ',accuracy_score(y_pred,y_test)),print('F1 Score: ',f1_score(y_pred,y_test))"
   ]
  },
  {
   "cell_type": "markdown",
   "id": "4e4ac684-b043-4134-9cd1-8aca617bab27",
   "metadata": {},
   "source": [
    "## Feature Importance"
   ]
  },
  {
   "cell_type": "code",
   "execution_count": 35,
   "id": "e23b0a67-c33d-46d9-8589-f16431ae8d11",
   "metadata": {},
   "outputs": [],
   "source": [
    "importances = rfc.feature_importances_"
   ]
  },
  {
   "cell_type": "code",
   "execution_count": 36,
   "id": "3e101876-a924-45c7-b638-598ac9f7f736",
   "metadata": {},
   "outputs": [
    {
     "data": {
      "image/png": "[encoded data removed]",
      "text/plain": [
       "<Figure size 640x480 with 1 Axes>"
      ]
     },
     "metadata": {},
     "output_type": "display_data"
    }
   ],
   "source": [
    "sorted_index = np.argsort(importances)[::-1]\n",
    "x = range(len(importances))\n",
    "\n",
    "# Create tick labels \n",
    "labels = np.array(X.columns)[sorted_index]\n",
    "plt.bar(x, importances[sorted_index], tick_label=labels)\n",
    "\n",
    "# Rotate tick labels to vertical\n",
    "plt.xticks(rotation=90)\n",
    "plt.show()"
   ]
  },
  {
   "cell_type": "code",
   "execution_count": 37,
   "id": "ddbcd164-9bce-4619-b0a6-51bf89b1be5d",
   "metadata": {},
   "outputs": [
    {
     "data": {
      "text/plain": [
       "array(['AI', 'AK', 'AG', 'CN', 'BX', 'CM', 'CH', 'CA', 'BZ', 'AW', 'CB',\n",
       "       'BP', 'CR', 'CG', 'L', 'BT', 'CF', 'BI', 'U', 'K', 'T', 'BY', 'S',\n",
       "       'O', 'CK', 'BW', 'P', 'Q', 'BC', 'V', 'AN', 'R', 'BM', 'AV', 'BS',\n",
       "       'AE', 'BB', 'BN', 'W', 'BD', 'BJ', 'BG', 'AM', 'BA', 'AC', 'BU',\n",
       "       'CQ', 'AH', 'AY', 'CE', 'AL', 'BF', 'AX', 'AD', 'BK', 'BR', 'AB',\n",
       "       'close_y', 'AJ', 'X', 'BL', 'AQ', 'CO', 'AT', 'AO', 'AP', 'CP',\n",
       "       'BE', 'Y', 'CJ', 'high_y', 'AZ', 'CI', 'AF', 'CL', 'open_y', 'BV',\n",
       "       'CS', 'close_x', 'BQ', 'AU', 'Z', 'CD', 'AA', 'low_y', 'low_x',\n",
       "       'CC', 'high_x', 'BO', 'open_x', 'CV', 'CT', 'N', 'AS', 'M',\n",
       "       'volume', 'CZ', 'AR', 'DA', 'DF', 'DE', 'DB', 'CY', 'CU', 'CX',\n",
       "       'TOUCH', 'AM_co', 'AT_co', 'CW', 'AN_co', 'BQ_co', 'BR_co',\n",
       "       'AQ_co', 'O_co', 'AO_co', 'AZ_co', 'BS_co', 'AY_co', 'BI_co',\n",
       "       'CC_co_upd', 'AV_co', 'AU_co', 'BJ_co', 'AF_co', 'R_co', 'L_co',\n",
       "       'BT_co', 'AX_co', 'CI_co_upd', 'AE_co', 'BZ_co_upd', 'AH_co',\n",
       "       'BK_co', 'AW_co', 'BD_co', 'BA_co'], dtype=object)"
      ]
     },
     "execution_count": 37,
     "metadata": {},
     "output_type": "execute_result"
    }
   ],
   "source": [
    "labels"
   ]
  },
  {
   "cell_type": "code",
   "execution_count": 38,
   "id": "ca597eb4-c02d-4c32-818b-121f38101fb7",
   "metadata": {},
   "outputs": [],
   "source": [
    "labels_30_important=labels[:30]"
   ]
  },
  {
   "cell_type": "code",
   "execution_count": 39,
   "id": "fe28de53-6a40-49e2-90e2-ede77cd43348",
   "metadata": {},
   "outputs": [
    {
     "data": {
      "text/plain": [
       "array(['AI', 'AK', 'AG', 'CN', 'BX', 'CM', 'CH', 'CA', 'BZ', 'AW', 'CB',\n",
       "       'BP', 'CR', 'CG', 'L', 'BT', 'CF', 'BI', 'U', 'K', 'T', 'BY', 'S',\n",
       "       'O', 'CK', 'BW', 'P', 'Q', 'BC', 'V'], dtype=object)"
      ]
     },
     "execution_count": 39,
     "metadata": {},
     "output_type": "execute_result"
    }
   ],
   "source": [
    "labels_30_important"
   ]
  },
  {
   "cell_type": "code",
   "execution_count": null,
   "id": "cf83ced8-f1b2-438a-8a46-00b57c38c65e",
   "metadata": {},
   "outputs": [],
   "source": []
  },
  {
   "cell_type": "code",
   "execution_count": 40,
   "id": "149934de-b719-474f-8245-e44c564bab17",
   "metadata": {},
   "outputs": [],
   "source": [
    "X_important = X[labels_30_important]"
   ]
  },
  {
   "cell_type": "markdown",
   "id": "c7e3c043-20e6-44ed-a6be-d0915ba075e6",
   "metadata": {},
   "source": [
    "## After Feature Selection"
   ]
  },
  {
   "cell_type": "code",
   "execution_count": 41,
   "id": "ee4110db-3915-47df-9986-f6e420cfb8f9",
   "metadata": {},
   "outputs": [],
   "source": [
    "X_train,X_test,y_train,y_test = train_test_split(X_important,target, test_size=0.15, random_state=42)"
   ]
  },
  {
   "cell_type": "code",
   "execution_count": 42,
   "id": "2a5a7dc9-51be-42eb-b56a-3694e533574a",
   "metadata": {},
   "outputs": [
    {
     "data": {
      "text/plain": [
       "((278693, 30), (49182, 30), (278693,), (49182,))"
      ]
     },
     "execution_count": 42,
     "metadata": {},
     "output_type": "execute_result"
    }
   ],
   "source": [
    "X_train.shape,X_test.shape,y_train.shape,y_test.shape"
   ]
  },
  {
   "cell_type": "code",
   "execution_count": 43,
   "id": "c455847f-c6b7-4700-a70c-d4f0869c95c5",
   "metadata": {},
   "outputs": [],
   "source": [
    "rfm = RandomForestClassifier(n_estimators=100, max_depth=None, min_samples_split=2, min_samples_leaf=1, max_features='sqrt', random_state=42)"
   ]
  },
  {
   "cell_type": "code",
   "execution_count": 44,
   "id": "7270b767-d7d2-425e-b4ca-60759d7205c7",
   "metadata": {},
   "outputs": [
    {
     "data": {
      "text/html": [
       "<style>#sk-container-id-2 {color: black;background-color: white;}#sk-container-id-2 pre{padding: 0;}#sk-container-id-2 div.sk-toggleable {background-color: white;}#sk-container-id-2 label.sk-toggleable__label {cursor: pointer;display: block;width: 100%;margin-bottom: 0;padding: 0.3em;box-sizing: border-box;text-align: center;}#sk-container-id-2 label.sk-toggleable__label-arrow:before {content: \"▸\";float: left;margin-right: 0.25em;color: #696969;}#sk-container-id-2 label.sk-toggleable__label-arrow:hover:before {color: black;}#sk-container-id-2 div.sk-estimator:hover label.sk-toggleable__label-arrow:before {color: black;}#sk-container-id-2 div.sk-toggleable__content {max-height: 0;max-width: 0;overflow: hidden;text-align: left;background-color: #f0f8ff;}#sk-container-id-2 div.sk-toggleable__content pre {margin: 0.2em;color: black;border-radius: 0.25em;background-color: #f0f8ff;}#sk-container-id-2 input.sk-toggleable__control:checked~div.sk-toggleable__content {max-height: 200px;max-width: 100%;overflow: auto;}#sk-container-id-2 input.sk-toggleable__control:checked~label.sk-toggleable__label-arrow:before {content: \"▾\";}#sk-container-id-2 div.sk-estimator input.sk-toggleable__control:checked~label.sk-toggleable__label {background-color: #d4ebff;}#sk-container-id-2 div.sk-label input.sk-toggleable__control:checked~label.sk-toggleable__label {background-color: #d4ebff;}#sk-container-id-2 input.sk-hidden--visually {border: 0;clip: rect(1px 1px 1px 1px);clip: rect(1px, 1px, 1px, 1px);height: 1px;margin: -1px;overflow: hidden;padding: 0;position: absolute;width: 1px;}#sk-container-id-2 div.sk-estimator {font-family: monospace;background-color: #f0f8ff;border: 1px dotted black;border-radius: 0.25em;box-sizing: border-box;margin-bottom: 0.5em;}#sk-container-id-2 div.sk-estimator:hover {background-color: #d4ebff;}#sk-container-id-2 div.sk-parallel-item::after {content: \"\";width: 100%;border-bottom: 1px solid gray;flex-grow: 1;}#sk-container-id-2 div.sk-label:hover label.sk-toggleable__label {background-color: #d4ebff;}#sk-container-id-2 div.sk-serial::before {content: \"\";position: absolute;border-left: 1px solid gray;box-sizing: border-box;top: 0;bottom: 0;left: 50%;z-index: 0;}#sk-container-id-2 div.sk-serial {display: flex;flex-direction: column;align-items: center;background-color: white;padding-right: 0.2em;padding-left: 0.2em;position: relative;}#sk-container-id-2 div.sk-item {position: relative;z-index: 1;}#sk-container-id-2 div.sk-parallel {display: flex;align-items: stretch;justify-content: center;background-color: white;position: relative;}#sk-container-id-2 div.sk-item::before, #sk-container-id-2 div.sk-parallel-item::before {content: \"\";position: absolute;border-left: 1px solid gray;box-sizing: border-box;top: 0;bottom: 0;left: 50%;z-index: -1;}#sk-container-id-2 div.sk-parallel-item {display: flex;flex-direction: column;z-index: 1;position: relative;background-color: white;}#sk-container-id-2 div.sk-parallel-item:first-child::after {align-self: flex-end;width: 50%;}#sk-container-id-2 div.sk-parallel-item:last-child::after {align-self: flex-start;width: 50%;}#sk-container-id-2 div.sk-parallel-item:only-child::after {width: 0;}#sk-container-id-2 div.sk-dashed-wrapped {border: 1px dashed gray;margin: 0 0.4em 0.5em 0.4em;box-sizing: border-box;padding-bottom: 0.4em;background-color: white;}#sk-container-id-2 div.sk-label label {font-family: monospace;font-weight: bold;display: inline-block;line-height: 1.2em;}#sk-container-id-2 div.sk-label-container {text-align: center;}#sk-container-id-2 div.sk-container {/* jupyter's `normalize.less` sets `[hidden] { display: none; }` but bootstrap.min.css set `[hidden] { display: none !important; }` so we also need the `!important` here to be able to override the default hidden behavior on the sphinx rendered scikit-learn.org. See: https://github.com/scikit-learn/scikit-learn/issues/21755 */display: inline-block !important;position: relative;}#sk-container-id-2 div.sk-text-repr-fallback {display: none;}</style><div id=\"sk-container-id-2\" class=\"sk-top-container\"><div class=\"sk-text-repr-fallback\"><pre>RandomForestClassifier(random_state=42)</pre><b>In a Jupyter environment, please rerun this cell to show the HTML representation or trust the notebook. <br />On GitHub, the HTML representation is unable to render, please try loading this page with nbviewer.org.</b></div><div class=\"sk-container\" hidden><div class=\"sk-item\"><div class=\"sk-estimator sk-toggleable\"><input class=\"sk-toggleable__control sk-hidden--visually\" id=\"sk-estimator-id-2\" type=\"checkbox\" checked><label for=\"sk-estimator-id-2\" class=\"sk-toggleable__label sk-toggleable__label-arrow\">RandomForestClassifier</label><div class=\"sk-toggleable__content\"><pre>RandomForestClassifier(random_state=42)</pre></div></div></div></div></div>"
      ],
      "text/plain": [
       "RandomForestClassifier(random_state=42)"
      ]
     },
     "execution_count": 44,
     "metadata": {},
     "output_type": "execute_result"
    }
   ],
   "source": [
    "rfm.fit(X_train, y_train)"
   ]
  },
  {
   "cell_type": "code",
   "execution_count": 45,
   "id": "2bb2016b-bccb-4017-a2ee-604449342212",
   "metadata": {},
   "outputs": [],
   "source": [
    "y_pred = rfm.predict(X_test)"
   ]
  },
  {
   "cell_type": "code",
   "execution_count": 46,
   "id": "1bc5527b-1b53-4dd0-8c08-e9e12e49af68",
   "metadata": {},
   "outputs": [
    {
     "name": "stdout",
     "output_type": "stream",
     "text": [
      "              precision    recall  f1-score   support\n",
      "\n",
      "         1.0       1.00      1.00      1.00     23078\n",
      "         2.0       1.00      1.00      1.00     26104\n",
      "\n",
      "    accuracy                           1.00     49182\n",
      "   macro avg       1.00      1.00      1.00     49182\n",
      "weighted avg       1.00      1.00      1.00     49182\n",
      "\n",
      "Accuracy Score:  0.9955878166808995\n",
      "F1 Score:  0.9952974320078016\n"
     ]
    },
    {
     "data": {
      "text/plain": [
       "(None, None, None)"
      ]
     },
     "execution_count": 46,
     "metadata": {},
     "output_type": "execute_result"
    }
   ],
   "source": [
    "print(classification_report(y_pred,y_test)),print('Accuracy Score: ',accuracy_score(y_pred,y_test)),print('F1 Score: ',f1_score(y_pred,y_test))"
   ]
  },
  {
   "cell_type": "markdown",
   "id": "f27f892b-2427-452c-a23c-2f92b1127a3c",
   "metadata": {},
   "source": [
    "## Saving Models"
   ]
  },
  {
   "cell_type": "code",
   "execution_count": 47,
   "id": "25503702-1022-47fa-be0a-efb21cf64a7f",
   "metadata": {},
   "outputs": [],
   "source": [
    "from joblib import dump,load"
   ]
  },
  {
   "cell_type": "code",
   "execution_count": 48,
   "id": "ed452505-be4b-48b8-bb88-d3c17e4ea460",
   "metadata": {},
   "outputs": [
    {
     "data": {
      "text/plain": [
       "['random_forest_144_features.joblib']"
      ]
     },
     "execution_count": 48,
     "metadata": {},
     "output_type": "execute_result"
    }
   ],
   "source": [
    "filename = 'random_forest_144_features.joblib'\n",
    "dump(rfc, filename)"
   ]
  },
  {
   "cell_type": "code",
   "execution_count": 49,
   "id": "822dc207-76d9-465f-8000-1a92eab8ba92",
   "metadata": {},
   "outputs": [
    {
     "data": {
      "text/plain": [
       "['random_forest_30_features.joblib']"
      ]
     },
     "execution_count": 49,
     "metadata": {},
     "output_type": "execute_result"
    }
   ],
   "source": [
    "filename = 'random_forest_30_features.joblib'\n",
    "dump(rfm, filename)"
   ]
  },
  {
   "cell_type": "markdown",
   "id": "590b5949-baa9-40c9-af7b-bcd8e5699c72",
   "metadata": {},
   "source": [
    "## Loading Models For Verification"
   ]
  },
  {
   "cell_type": "code",
   "execution_count": 50,
   "id": "df156f37-9d92-49c2-b426-62c24a0a0340",
   "metadata": {},
   "outputs": [],
   "source": [
    "loaded_model = load('random_forest_30_features.joblib')"
   ]
  },
  {
   "cell_type": "code",
   "execution_count": 51,
   "id": "e1cda300-ed09-4dc7-be83-6bb8db96674b",
   "metadata": {},
   "outputs": [],
   "source": [
    "y_pred_1 = loaded_model.predict(X_test)"
   ]
  },
  {
   "cell_type": "code",
   "execution_count": 52,
   "id": "50d68745-3d08-4049-90e2-bf5b2f71da92",
   "metadata": {},
   "outputs": [
    {
     "name": "stdout",
     "output_type": "stream",
     "text": [
      "              precision    recall  f1-score   support\n",
      "\n",
      "         1.0       1.00      1.00      1.00     23078\n",
      "         2.0       1.00      1.00      1.00     26104\n",
      "\n",
      "    accuracy                           1.00     49182\n",
      "   macro avg       1.00      1.00      1.00     49182\n",
      "weighted avg       1.00      1.00      1.00     49182\n",
      "\n",
      "Accuracy Score:  0.9955878166808995\n",
      "F1 Score:  0.9952974320078016\n"
     ]
    },
    {
     "data": {
      "text/plain": [
       "(None, None, None)"
      ]
     },
     "execution_count": 52,
     "metadata": {},
     "output_type": "execute_result"
    }
   ],
   "source": [
    "print(classification_report(y_pred_1,y_test)),print('Accuracy Score: ',accuracy_score(y_pred_1,y_test)),print('F1 Score: ',f1_score(y_pred_1,y_test))"
   ]
  },
  {
   "cell_type": "code",
   "execution_count": 53,
   "id": "583a634c-8d08-40fb-a235-25c6a13f0b94",
   "metadata": {},
   "outputs": [],
   "source": [
    "from sklearn.metrics import confusion_matrix\n",
    "import seaborn as sns\n",
    "import matplotlib.pyplot as plt"
   ]
  },
  {
   "cell_type": "code",
   "execution_count": 54,
   "id": "bb288456-c753-4a96-ab10-a37d02c5e9ba",
   "metadata": {},
   "outputs": [
    {
     "data": {
      "image/png": "[encoded data removed]",
      "text/plain": [
       "<Figure size 640x480 with 2 Axes>"
      ]
     },
     "metadata": {},
     "output_type": "display_data"
    }
   ],
   "source": [
    "cnf_matrix = confusion_matrix(y_test, y_pred_1,)\n",
    "\n",
    "# plot the confusion matrix\n",
    "sns.heatmap(cnf_matrix, annot=True, cmap='Blues', fmt='g',xticklabels=[1,2], yticklabels=[1,2])\n",
    "plt.xlabel('Predicted')\n",
    "plt.ylabel('Actual')\n",
    "plt.title('Confusion Matrix')\n",
    "plt.show()"
   ]
  },
  {
   "cell_type": "markdown",
   "id": "9a7b3a71-ac3e-46a1-a821-2befc12c62c4",
   "metadata": {},
   "source": [
    "Loaded Successfully. :)  "
   ]
  },
  {
   "cell_type": "markdown",
   "id": "32da2333-c36e-4aad-b22c-e1e625bf030c",
   "metadata": {},
   "source": [
    "**Comments:** "
   ]
  },
  {
   "cell_type": "markdown",
   "id": "464cbf3d-6a8d-45db-87f8-b90da5536f3b",
   "metadata": {},
   "source": [
    "1. Models got good level of accuracy \n",
    "2. 30 features are selected \n",
    "3. Same level of accuracy attained on Test Set."
   ]
  },
  {
   "cell_type": "code",
   "execution_count": null,
   "id": "2eba25a0-bc62-46f7-9f35-093db38ca58a",
   "metadata": {},
   "outputs": [],
   "source": []
  }
 ],
 "metadata": {
  "kernelspec": {
   "display_name": "Python 3 (ipykernel)",
   "language": "python",
   "name": "python3"
  },
  "language_info": {
   "codemirror_mode": {
    "name": "ipython",
    "version": 3
   },
   "file_extension": ".py",
   "mimetype": "text/x-python",
   "name": "python",
   "nbconvert_exporter": "python",
   "pygments_lexer": "ipython3",
   "version": "3.9.16"
  }
 },
 "nbformat": 4,
 "nbformat_minor": 5
}
