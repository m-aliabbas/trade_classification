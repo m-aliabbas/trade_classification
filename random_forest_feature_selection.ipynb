{
 "cells": [
  {
   "cell_type": "markdown",
   "id": "7719f58f-9178-4763-853a-71a3330042b4",
   "metadata": {
    "jp-MarkdownHeadingCollapsed": true,
    "tags": []
   },
   "source": [
    "# Imports and Loading Data"
   ]
  },
  {
   "cell_type": "code",
   "execution_count": 1,
   "id": "9977de2b-7bcd-4b10-ba5c-f272cc9d61c7",
   "metadata": {},
   "outputs": [],
   "source": [
    "import pandas as pd"
   ]
  },
  {
   "cell_type": "code",
   "execution_count": 2,
   "id": "08af80ec-4fb5-4f9e-b764-2ac870dba502",
   "metadata": {},
   "outputs": [
    {
     "name": "stderr",
     "output_type": "stream",
     "text": [
      "/tmp/ipykernel_112/2274191625.py:1: DeprecationWarning: `import pandas_profiling` is going to be deprecated by April 1st. Please use `import ydata_profiling` instead.\n",
      "  from pandas_profiling import ProfileReport\n"
     ]
    }
   ],
   "source": [
    "from pandas_profiling import ProfileReport"
   ]
  },
  {
   "cell_type": "code",
   "execution_count": 3,
   "id": "d8b127d9-fedf-4a8e-9374-1f8b65a61e0c",
   "metadata": {},
   "outputs": [],
   "source": [
    "DATA_PATH = './Data/'"
   ]
  },
  {
   "cell_type": "code",
   "execution_count": 4,
   "id": "6b1687dd-6382-4837-ade4-51fb93375175",
   "metadata": {},
   "outputs": [],
   "source": [
    "OUTPUT_PATH = './Output/'"
   ]
  },
  {
   "cell_type": "code",
   "execution_count": 5,
   "id": "654cfb41-cdfc-4b15-aba5-6239cd4505d8",
   "metadata": {},
   "outputs": [
    {
     "name": "stderr",
     "output_type": "stream",
     "text": [
      "/tmp/ipykernel_112/1592553496.py:1: DtypeWarning: Columns (105,106) have mixed types. Specify dtype option on import or set low_memory=False.\n",
      "  df = pd.read_csv(f\"{DATA_PATH}Iddo_v7_5LA.csv\")\n"
     ]
    }
   ],
   "source": [
    "df = pd.read_csv(f\"{DATA_PATH}Iddo_v7_5LA.csv\")"
   ]
  },
  {
   "cell_type": "code",
   "execution_count": 6,
   "id": "28bfaf3b-8078-4556-8c0c-a0dd49e2495c",
   "metadata": {},
   "outputs": [],
   "source": [
    "# df_sample = df.sample(frac=0.1) # Selecting a sample to avoid session crash"
   ]
  },
  {
   "cell_type": "markdown",
   "id": "742d47f5-70a8-4e87-9784-29822ed2be34",
   "metadata": {
    "jp-MarkdownHeadingCollapsed": true,
    "tags": []
   },
   "source": [
    "# EDA"
   ]
  },
  {
   "cell_type": "code",
   "execution_count": 7,
   "id": "d1921864-d393-4795-b326-9c1ed27e0b63",
   "metadata": {},
   "outputs": [],
   "source": [
    "# profile = ProfileReport(df_sample, title=\"Pandas Profiling Report\",minimal=True)"
   ]
  },
  {
   "cell_type": "code",
   "execution_count": 8,
   "id": "fb500dd7-28b8-4bb9-bb02-46085f4ebc83",
   "metadata": {},
   "outputs": [],
   "source": [
    "# df_sample.profile_report()"
   ]
  },
  {
   "cell_type": "code",
   "execution_count": 9,
   "id": "9c24429b-fe16-418b-938e-31404eac69ca",
   "metadata": {},
   "outputs": [],
   "source": [
    "# df_sample"
   ]
  },
  {
   "cell_type": "code",
   "execution_count": 10,
   "id": "3ae289b3-638d-450f-8768-ee780d3d9088",
   "metadata": {},
   "outputs": [],
   "source": [
    "# profile.to_file(\"trading_classification_report.html\")"
   ]
  },
  {
   "cell_type": "code",
   "execution_count": 11,
   "id": "76761aaf-d451-4920-b31d-bb6faa043e34",
   "metadata": {},
   "outputs": [],
   "source": [
    "# df_sample.head()"
   ]
  },
  {
   "cell_type": "markdown",
   "id": "009eb7ad-c7a3-4191-abd3-70a6977b00a0",
   "metadata": {
    "tags": []
   },
   "source": [
    "# Correlation Analysis"
   ]
  },
  {
   "cell_type": "markdown",
   "id": "3268fdcc-7b12-428c-86f2-ccc224aca27c",
   "metadata": {},
   "source": [
    "Correlation cofficent is too low. On 0.5 on Target column, 0.3 only 4 columns and 0.08 getting the following. These are not helpful directly"
   ]
  },
  {
   "cell_type": "code",
   "execution_count": 12,
   "id": "40e85871-d4da-4985-976b-7f29aecca993",
   "metadata": {},
   "outputs": [],
   "source": [
    "# # Assume that your_dataframe is a pandas DataFrame\n",
    "# correlations = df_sample.corrwith(df_sample['TOUCH']).abs()\n",
    "# features =  correlations[correlations > 0.08].index.tolist()"
   ]
  },
  {
   "cell_type": "code",
   "execution_count": 13,
   "id": "722e90d7-5b9b-4a88-93f3-5f62c20699c5",
   "metadata": {},
   "outputs": [],
   "source": [
    "# # getting a random sample\n",
    "# df2= df[100000:].sample(frac=0.03)"
   ]
  },
  {
   "cell_type": "code",
   "execution_count": 14,
   "id": "590dea80-6803-4c80-a08a-0a058e0d59d3",
   "metadata": {},
   "outputs": [],
   "source": [
    "# df2 = df2[features]"
   ]
  },
  {
   "cell_type": "code",
   "execution_count": 15,
   "id": "4d7649e1-44d5-41bc-8efa-6d0adda5cc0c",
   "metadata": {},
   "outputs": [],
   "source": [
    "# df2 = df2.dropna()\n",
    "# y_test = df2['TOUCH']\n",
    "# df2 = df2.drop(['TOUCH'],axis=1)\n"
   ]
  },
  {
   "cell_type": "code",
   "execution_count": 16,
   "id": "6383f88d-e7ca-4e28-a4d0-a60b1002b3cf",
   "metadata": {},
   "outputs": [],
   "source": [
    "# df1=df_sample[features]"
   ]
  },
  {
   "cell_type": "markdown",
   "id": "e11a06af-3408-4c8f-8614-9077cfce317c",
   "metadata": {},
   "source": [
    "## Runing Random Forest On it. "
   ]
  },
  {
   "cell_type": "code",
   "execution_count": 17,
   "id": "167b3e7e-000b-4a4f-b18c-553f3eb4567c",
   "metadata": {},
   "outputs": [],
   "source": [
    "from sklearn.ensemble import RandomForestClassifier\n",
    "\n",
    "# "
   ]
  },
  {
   "cell_type": "code",
   "execution_count": 18,
   "id": "8ecf660e-5990-4e74-a73f-2a6d108ddfcd",
   "metadata": {},
   "outputs": [],
   "source": [
    "# Instantiate the classifier\n",
    "# rf = RandomForestClassifier()\n",
    "# "
   ]
  },
  {
   "cell_type": "code",
   "execution_count": 19,
   "id": "730890c8-9c04-4f71-b4a5-fcbd83a3980e",
   "metadata": {},
   "outputs": [],
   "source": [
    "# df1 = df1.dropna()"
   ]
  },
  {
   "cell_type": "code",
   "execution_count": 20,
   "id": "77191486-a1f3-424a-9506-29cecf765018",
   "metadata": {},
   "outputs": [],
   "source": [
    "# target = df1['TOUCH']"
   ]
  },
  {
   "cell_type": "code",
   "execution_count": 21,
   "id": "9d2331ce-0296-4390-9481-96f904fc17b3",
   "metadata": {},
   "outputs": [],
   "source": [
    "# df1 = df1.drop(['TOUCH'],axis=1)"
   ]
  },
  {
   "cell_type": "code",
   "execution_count": 22,
   "id": "cd6895e2-6568-4ade-b80c-ed6a8d6f1814",
   "metadata": {},
   "outputs": [],
   "source": [
    "# model=rf.fit(df1, target)"
   ]
  },
  {
   "cell_type": "code",
   "execution_count": 23,
   "id": "85fd3af6-aeb3-4d36-886c-46cf76578673",
   "metadata": {},
   "outputs": [],
   "source": [
    "# y_pred = model.predict(df2)"
   ]
  },
  {
   "cell_type": "code",
   "execution_count": 24,
   "id": "03917d82-322b-4297-b195-cc642e25330b",
   "metadata": {},
   "outputs": [],
   "source": [
    "# from sklearn.metrics import accuracy_score"
   ]
  },
  {
   "cell_type": "code",
   "execution_count": 25,
   "id": "90539afa-7161-4f7b-9252-11ac826344a1",
   "metadata": {},
   "outputs": [],
   "source": [
    "# accuracy_score(y_test, y_pred)"
   ]
  },
  {
   "cell_type": "markdown",
   "id": "fa18bd1c-4ba8-486e-81d7-2f0d7111801a",
   "metadata": {},
   "source": [
    "However, getting the 100% accuracy but it is not somehow good. I need more description of columns "
   ]
  },
  {
   "cell_type": "markdown",
   "id": "e487cacb-32fe-4925-8418-85655d76af80",
   "metadata": {},
   "source": [
    "# Splitting Train and Test"
   ]
  },
  {
   "cell_type": "code",
   "execution_count": 31,
   "id": "cc489f40-5b78-4903-a3b4-0e9212ddc74c",
   "metadata": {},
   "outputs": [],
   "source": [
    "from sklearn.model_selection import train_test_split"
   ]
  },
  {
   "cell_type": "code",
   "execution_count": 60,
   "id": "9bc07662-6b6f-449f-abe6-3bbd4ef12bf6",
   "metadata": {},
   "outputs": [],
   "source": [
    "# getting data type of all columns and deleting object column\n",
    "# for column in df.columns:\n",
    "#     print(column,df[column].dtype)"
   ]
  },
  {
   "cell_type": "code",
   "execution_count": 34,
   "id": "d46ad7c5-291c-42d1-97e2-469fcec1fe22",
   "metadata": {},
   "outputs": [],
   "source": [
    "target = df['TOUCH']"
   ]
  },
  {
   "cell_type": "code",
   "execution_count": 53,
   "id": "d18c1777-3875-4568-a331-5b592d48e971",
   "metadata": {},
   "outputs": [],
   "source": [
    "X = df.drop(['timestamp','DD','DC','TOUCH'],axis=1)"
   ]
  },
  {
   "cell_type": "code",
   "execution_count": 54,
   "id": "c0efb251-69eb-45d9-91e8-2dbd5fd076d0",
   "metadata": {},
   "outputs": [],
   "source": [
    "X_train,X_test,y_train,y_test = train_test_split(X,target, test_size=0.15, random_state=42)"
   ]
  },
  {
   "cell_type": "code",
   "execution_count": 55,
   "id": "addc7cc8-1d20-4a74-85b9-c291cfbf51f9",
   "metadata": {},
   "outputs": [
    {
     "data": {
      "text/plain": [
       "((278703, 142), (49184, 142), (278703,), (49184,))"
      ]
     },
     "execution_count": 55,
     "metadata": {},
     "output_type": "execute_result"
    }
   ],
   "source": [
    "X_train.shape,X_test.shape,y_train.shape,y_test.shape"
   ]
  },
  {
   "cell_type": "markdown",
   "id": "27a844c9-c335-4a54-957f-cca05c38abbe",
   "metadata": {},
   "source": [
    "# Random Forest Classification"
   ]
  },
  {
   "cell_type": "markdown",
   "id": "a0d0fbf6-b7ce-4aae-8901-2851cd43cdc7",
   "metadata": {},
   "source": [
    "## Before Feature Selection"
   ]
  },
  {
   "cell_type": "code",
   "execution_count": 65,
   "id": "3dd492b2-8f50-4acf-b3de-3baa4e0fd5af",
   "metadata": {},
   "outputs": [],
   "source": [
    "from sklearn.ensemble import RandomForestClassifier\n",
    "from sklearn.metrics import classification_report, accuracy_score,f1_score"
   ]
  },
  {
   "cell_type": "code",
   "execution_count": 74,
   "id": "ff21fb87-5790-41c8-b6c2-b6b6efe95440",
   "metadata": {},
   "outputs": [],
   "source": [
    "import matplotlib.pyplot as plt\n",
    "import numpy as np"
   ]
  },
  {
   "cell_type": "code",
   "execution_count": 57,
   "id": "7ed53fc2-f03a-411f-8d07-3a685b528bf7",
   "metadata": {},
   "outputs": [],
   "source": [
    "rfc = RandomForestClassifier(n_estimators=100, max_depth=None, min_samples_split=2, min_samples_leaf=1, max_features='sqrt', random_state=42)"
   ]
  },
  {
   "cell_type": "code",
   "execution_count": 58,
   "id": "eb8b728a-f5b7-46ca-9a4e-bcc91fa9005f",
   "metadata": {},
   "outputs": [
    {
     "data": {
      "text/html": [
       "<style>#sk-container-id-1 {color: black;background-color: white;}#sk-container-id-1 pre{padding: 0;}#sk-container-id-1 div.sk-toggleable {background-color: white;}#sk-container-id-1 label.sk-toggleable__label {cursor: pointer;display: block;width: 100%;margin-bottom: 0;padding: 0.3em;box-sizing: border-box;text-align: center;}#sk-container-id-1 label.sk-toggleable__label-arrow:before {content: \"▸\";float: left;margin-right: 0.25em;color: #696969;}#sk-container-id-1 label.sk-toggleable__label-arrow:hover:before {color: black;}#sk-container-id-1 div.sk-estimator:hover label.sk-toggleable__label-arrow:before {color: black;}#sk-container-id-1 div.sk-toggleable__content {max-height: 0;max-width: 0;overflow: hidden;text-align: left;background-color: #f0f8ff;}#sk-container-id-1 div.sk-toggleable__content pre {margin: 0.2em;color: black;border-radius: 0.25em;background-color: #f0f8ff;}#sk-container-id-1 input.sk-toggleable__control:checked~div.sk-toggleable__content {max-height: 200px;max-width: 100%;overflow: auto;}#sk-container-id-1 input.sk-toggleable__control:checked~label.sk-toggleable__label-arrow:before {content: \"▾\";}#sk-container-id-1 div.sk-estimator input.sk-toggleable__control:checked~label.sk-toggleable__label {background-color: #d4ebff;}#sk-container-id-1 div.sk-label input.sk-toggleable__control:checked~label.sk-toggleable__label {background-color: #d4ebff;}#sk-container-id-1 input.sk-hidden--visually {border: 0;clip: rect(1px 1px 1px 1px);clip: rect(1px, 1px, 1px, 1px);height: 1px;margin: -1px;overflow: hidden;padding: 0;position: absolute;width: 1px;}#sk-container-id-1 div.sk-estimator {font-family: monospace;background-color: #f0f8ff;border: 1px dotted black;border-radius: 0.25em;box-sizing: border-box;margin-bottom: 0.5em;}#sk-container-id-1 div.sk-estimator:hover {background-color: #d4ebff;}#sk-container-id-1 div.sk-parallel-item::after {content: \"\";width: 100%;border-bottom: 1px solid gray;flex-grow: 1;}#sk-container-id-1 div.sk-label:hover label.sk-toggleable__label {background-color: #d4ebff;}#sk-container-id-1 div.sk-serial::before {content: \"\";position: absolute;border-left: 1px solid gray;box-sizing: border-box;top: 0;bottom: 0;left: 50%;z-index: 0;}#sk-container-id-1 div.sk-serial {display: flex;flex-direction: column;align-items: center;background-color: white;padding-right: 0.2em;padding-left: 0.2em;position: relative;}#sk-container-id-1 div.sk-item {position: relative;z-index: 1;}#sk-container-id-1 div.sk-parallel {display: flex;align-items: stretch;justify-content: center;background-color: white;position: relative;}#sk-container-id-1 div.sk-item::before, #sk-container-id-1 div.sk-parallel-item::before {content: \"\";position: absolute;border-left: 1px solid gray;box-sizing: border-box;top: 0;bottom: 0;left: 50%;z-index: -1;}#sk-container-id-1 div.sk-parallel-item {display: flex;flex-direction: column;z-index: 1;position: relative;background-color: white;}#sk-container-id-1 div.sk-parallel-item:first-child::after {align-self: flex-end;width: 50%;}#sk-container-id-1 div.sk-parallel-item:last-child::after {align-self: flex-start;width: 50%;}#sk-container-id-1 div.sk-parallel-item:only-child::after {width: 0;}#sk-container-id-1 div.sk-dashed-wrapped {border: 1px dashed gray;margin: 0 0.4em 0.5em 0.4em;box-sizing: border-box;padding-bottom: 0.4em;background-color: white;}#sk-container-id-1 div.sk-label label {font-family: monospace;font-weight: bold;display: inline-block;line-height: 1.2em;}#sk-container-id-1 div.sk-label-container {text-align: center;}#sk-container-id-1 div.sk-container {/* jupyter's `normalize.less` sets `[hidden] { display: none; }` but bootstrap.min.css set `[hidden] { display: none !important; }` so we also need the `!important` here to be able to override the default hidden behavior on the sphinx rendered scikit-learn.org. See: https://github.com/scikit-learn/scikit-learn/issues/21755 */display: inline-block !important;position: relative;}#sk-container-id-1 div.sk-text-repr-fallback {display: none;}</style><div id=\"sk-container-id-1\" class=\"sk-top-container\"><div class=\"sk-text-repr-fallback\"><pre>RandomForestClassifier(random_state=42)</pre><b>In a Jupyter environment, please rerun this cell to show the HTML representation or trust the notebook. <br />On GitHub, the HTML representation is unable to render, please try loading this page with nbviewer.org.</b></div><div class=\"sk-container\" hidden><div class=\"sk-item\"><div class=\"sk-estimator sk-toggleable\"><input class=\"sk-toggleable__control sk-hidden--visually\" id=\"sk-estimator-id-1\" type=\"checkbox\" checked><label for=\"sk-estimator-id-1\" class=\"sk-toggleable__label sk-toggleable__label-arrow\">RandomForestClassifier</label><div class=\"sk-toggleable__content\"><pre>RandomForestClassifier(random_state=42)</pre></div></div></div></div></div>"
      ],
      "text/plain": [
       "RandomForestClassifier(random_state=42)"
      ]
     },
     "execution_count": 58,
     "metadata": {},
     "output_type": "execute_result"
    }
   ],
   "source": [
    "rfc.fit(X_train, y_train)"
   ]
  },
  {
   "cell_type": "code",
   "execution_count": 62,
   "id": "f6d8bb09-b6e2-44eb-8c3a-99b5db7f6a4a",
   "metadata": {},
   "outputs": [],
   "source": [
    "y_pred = rfc.predict(X_test)"
   ]
  },
  {
   "cell_type": "code",
   "execution_count": 68,
   "id": "a564ef39-6ff0-422b-ab1f-534eddd8b824",
   "metadata": {},
   "outputs": [
    {
     "name": "stdout",
     "output_type": "stream",
     "text": [
      "              precision    recall  f1-score   support\n",
      "\n",
      "           0       1.00      1.00      1.00     37520\n",
      "           1       1.00      1.00      1.00     11664\n",
      "\n",
      "    accuracy                           1.00     49184\n",
      "   macro avg       1.00      1.00      1.00     49184\n",
      "weighted avg       1.00      1.00      1.00     49184\n",
      "\n",
      "Accuracy Score:  0.9999796681847756\n",
      "F1 Score:  0.9999571348964807\n"
     ]
    },
    {
     "data": {
      "text/plain": [
       "(None, None, None)"
      ]
     },
     "execution_count": 68,
     "metadata": {},
     "output_type": "execute_result"
    }
   ],
   "source": [
    "print(classification_report(y_pred,y_test)),print('Accuracy Score: ',accuracy_score(y_pred,y_test)),print('F1 Score: ',f1_score(y_pred,y_test))"
   ]
  },
  {
   "cell_type": "markdown",
   "id": "4e4ac684-b043-4134-9cd1-8aca617bab27",
   "metadata": {},
   "source": [
    "## Feature Importance"
   ]
  },
  {
   "cell_type": "code",
   "execution_count": 69,
   "id": "e23b0a67-c33d-46d9-8589-f16431ae8d11",
   "metadata": {},
   "outputs": [],
   "source": [
    "importances = rfc.feature_importances_"
   ]
  },
  {
   "cell_type": "code",
   "execution_count": 84,
   "id": "3e101876-a924-45c7-b638-598ac9f7f736",
   "metadata": {},
   "outputs": [
    {
     "data": {
      "image/png": "[encoded data removed]",
      "text/plain": [
       "<Figure size 640x480 with 1 Axes>"
      ]
     },
     "metadata": {},
     "output_type": "display_data"
    }
   ],
   "source": [
    "sorted_index = np.argsort(importances)[::-1]\n",
    "x = range(len(importances))\n",
    "\n",
    "# Create tick labels \n",
    "labels = np.array(X.columns)[sorted_index]\n",
    "plt.bar(x, importances[sorted_index], tick_label=labels)\n",
    "\n",
    "# Rotate tick labels to vertical\n",
    "plt.xticks(rotation=90)\n",
    "plt.show()"
   ]
  },
  {
   "cell_type": "code",
   "execution_count": 85,
   "id": "ddbcd164-9bce-4619-b0a6-51bf89b1be5d",
   "metadata": {},
   "outputs": [
    {
     "data": {
      "text/plain": [
       "array(['AT_co', 'BQ_co', 'AQ_co', 'BR_co', 'AO_co', 'AM_co', 'AN_co',\n",
       "       'CC_co_upd', 'BS_co', 'AZ_co', 'AF_co', 'AH_co', 'AU_co', 'AE_co',\n",
       "       'AV_co', 'volume', 'AX_co', 'DF', 'AY_co', 'BJ_co', 'L_co',\n",
       "       'BT_co', 'BI_co', 'DE', 'BZ_co_upd', 'O_co', 'BA_co', 'R_co',\n",
       "       'AW_co', 'BD_co', 'BK_co', 'CI_co_upd', 'AM', 'BR', 'BQ', 'AO',\n",
       "       'AQ', 'AN', 'BS', 'AH', 'AT', 'AX', 'low_x', 'AF', 'AU', 'high_x',\n",
       "       'AZ', 'open_x', 'AY', 'BO', 'AJ', 'AP', 'O', 'AC', 'AD', 'AL',\n",
       "       'BX', 'R', 'BJ', 'AE', 'AB', 'AA', 'BN', 'AV', 'BM', 'BT', 'CC',\n",
       "       'BB', 'L', 'T', 'BZ', 'CD', 'AG', 'CB', 'AW', 'CA', 'AI', 'CE',\n",
       "       'BI', 'Q', 'K', 'BW', 'P', 'AK', 'S', 'CG', 'BK', 'CI', 'CH', 'BL',\n",
       "       'CQ', 'CP', 'CK', 'V', 'close_x', 'CN', 'BE', 'U', 'BF', 'Y', 'CM',\n",
       "       'CF', 'W', 'BC', 'BD', 'BA', 'CO', 'CJ', 'CR', 'X', 'Z', 'CL',\n",
       "       'BG', 'BP', 'low_y', 'BV', 'BU', 'BY', 'close_y', 'open_y',\n",
       "       'high_y', 'CS', 'DB', 'CX', 'EXP3', 'CT', 'CY', 'CU', 'DA', 'CV',\n",
       "       'CZ', 'CW', 'EXP2CAT03', 'EXP2EXT', 'EXP2CAT05', 'N', 'M',\n",
       "       'EXP2CAT1', 'AS', 'EXP2CAT2', 'AR', 'EXP2'], dtype=object)"
      ]
     },
     "execution_count": 85,
     "metadata": {},
     "output_type": "execute_result"
    }
   ],
   "source": [
    "labels"
   ]
  },
  {
   "cell_type": "code",
   "execution_count": 86,
   "id": "ca597eb4-c02d-4c32-818b-121f38101fb7",
   "metadata": {},
   "outputs": [],
   "source": [
    "labels_30_important=labels[:30]"
   ]
  },
  {
   "cell_type": "code",
   "execution_count": 97,
   "id": "fe28de53-6a40-49e2-90e2-ede77cd43348",
   "metadata": {},
   "outputs": [
    {
     "data": {
      "text/plain": [
       "array(['AT_co', 'BQ_co', 'AQ_co', 'BR_co', 'AO_co', 'AM_co', 'AN_co',\n",
       "       'CC_co_upd', 'BS_co', 'AZ_co', 'AF_co', 'AH_co', 'AU_co', 'AE_co',\n",
       "       'AV_co', 'volume', 'AX_co', 'DF', 'AY_co', 'BJ_co', 'L_co',\n",
       "       'BT_co', 'BI_co', 'DE', 'BZ_co_upd', 'O_co', 'BA_co', 'R_co',\n",
       "       'AW_co', 'BD_co'], dtype=object)"
      ]
     },
     "execution_count": 97,
     "metadata": {},
     "output_type": "execute_result"
    }
   ],
   "source": [
    "labels_30_important"
   ]
  },
  {
   "cell_type": "code",
   "execution_count": null,
   "id": "cf83ced8-f1b2-438a-8a46-00b57c38c65e",
   "metadata": {},
   "outputs": [],
   "source": []
  },
  {
   "cell_type": "code",
   "execution_count": 87,
   "id": "149934de-b719-474f-8245-e44c564bab17",
   "metadata": {},
   "outputs": [],
   "source": [
    "X_important = X[labels_30_important]"
   ]
  },
  {
   "cell_type": "markdown",
   "id": "c7e3c043-20e6-44ed-a6be-d0915ba075e6",
   "metadata": {},
   "source": [
    "## After Feature Selection"
   ]
  },
  {
   "cell_type": "code",
   "execution_count": 89,
   "id": "ee4110db-3915-47df-9986-f6e420cfb8f9",
   "metadata": {},
   "outputs": [],
   "source": [
    "X_train,X_test,y_train,y_test = train_test_split(X_important,target, test_size=0.15, random_state=42)"
   ]
  },
  {
   "cell_type": "code",
   "execution_count": 90,
   "id": "2a5a7dc9-51be-42eb-b56a-3694e533574a",
   "metadata": {},
   "outputs": [
    {
     "data": {
      "text/plain": [
       "((278703, 30), (49184, 30), (278703,), (49184,))"
      ]
     },
     "execution_count": 90,
     "metadata": {},
     "output_type": "execute_result"
    }
   ],
   "source": [
    "X_train.shape,X_test.shape,y_train.shape,y_test.shape"
   ]
  },
  {
   "cell_type": "code",
   "execution_count": 91,
   "id": "c455847f-c6b7-4700-a70c-d4f0869c95c5",
   "metadata": {},
   "outputs": [],
   "source": [
    "rfm = RandomForestClassifier(n_estimators=100, max_depth=None, min_samples_split=2, min_samples_leaf=1, max_features='sqrt', random_state=42)"
   ]
  },
  {
   "cell_type": "code",
   "execution_count": 92,
   "id": "7270b767-d7d2-425e-b4ca-60759d7205c7",
   "metadata": {},
   "outputs": [
    {
     "data": {
      "text/html": [
       "<style>#sk-container-id-3 {color: black;background-color: white;}#sk-container-id-3 pre{padding: 0;}#sk-container-id-3 div.sk-toggleable {background-color: white;}#sk-container-id-3 label.sk-toggleable__label {cursor: pointer;display: block;width: 100%;margin-bottom: 0;padding: 0.3em;box-sizing: border-box;text-align: center;}#sk-container-id-3 label.sk-toggleable__label-arrow:before {content: \"▸\";float: left;margin-right: 0.25em;color: #696969;}#sk-container-id-3 label.sk-toggleable__label-arrow:hover:before {color: black;}#sk-container-id-3 div.sk-estimator:hover label.sk-toggleable__label-arrow:before {color: black;}#sk-container-id-3 div.sk-toggleable__content {max-height: 0;max-width: 0;overflow: hidden;text-align: left;background-color: #f0f8ff;}#sk-container-id-3 div.sk-toggleable__content pre {margin: 0.2em;color: black;border-radius: 0.25em;background-color: #f0f8ff;}#sk-container-id-3 input.sk-toggleable__control:checked~div.sk-toggleable__content {max-height: 200px;max-width: 100%;overflow: auto;}#sk-container-id-3 input.sk-toggleable__control:checked~label.sk-toggleable__label-arrow:before {content: \"▾\";}#sk-container-id-3 div.sk-estimator input.sk-toggleable__control:checked~label.sk-toggleable__label {background-color: #d4ebff;}#sk-container-id-3 div.sk-label input.sk-toggleable__control:checked~label.sk-toggleable__label {background-color: #d4ebff;}#sk-container-id-3 input.sk-hidden--visually {border: 0;clip: rect(1px 1px 1px 1px);clip: rect(1px, 1px, 1px, 1px);height: 1px;margin: -1px;overflow: hidden;padding: 0;position: absolute;width: 1px;}#sk-container-id-3 div.sk-estimator {font-family: monospace;background-color: #f0f8ff;border: 1px dotted black;border-radius: 0.25em;box-sizing: border-box;margin-bottom: 0.5em;}#sk-container-id-3 div.sk-estimator:hover {background-color: #d4ebff;}#sk-container-id-3 div.sk-parallel-item::after {content: \"\";width: 100%;border-bottom: 1px solid gray;flex-grow: 1;}#sk-container-id-3 div.sk-label:hover label.sk-toggleable__label {background-color: #d4ebff;}#sk-container-id-3 div.sk-serial::before {content: \"\";position: absolute;border-left: 1px solid gray;box-sizing: border-box;top: 0;bottom: 0;left: 50%;z-index: 0;}#sk-container-id-3 div.sk-serial {display: flex;flex-direction: column;align-items: center;background-color: white;padding-right: 0.2em;padding-left: 0.2em;position: relative;}#sk-container-id-3 div.sk-item {position: relative;z-index: 1;}#sk-container-id-3 div.sk-parallel {display: flex;align-items: stretch;justify-content: center;background-color: white;position: relative;}#sk-container-id-3 div.sk-item::before, #sk-container-id-3 div.sk-parallel-item::before {content: \"\";position: absolute;border-left: 1px solid gray;box-sizing: border-box;top: 0;bottom: 0;left: 50%;z-index: -1;}#sk-container-id-3 div.sk-parallel-item {display: flex;flex-direction: column;z-index: 1;position: relative;background-color: white;}#sk-container-id-3 div.sk-parallel-item:first-child::after {align-self: flex-end;width: 50%;}#sk-container-id-3 div.sk-parallel-item:last-child::after {align-self: flex-start;width: 50%;}#sk-container-id-3 div.sk-parallel-item:only-child::after {width: 0;}#sk-container-id-3 div.sk-dashed-wrapped {border: 1px dashed gray;margin: 0 0.4em 0.5em 0.4em;box-sizing: border-box;padding-bottom: 0.4em;background-color: white;}#sk-container-id-3 div.sk-label label {font-family: monospace;font-weight: bold;display: inline-block;line-height: 1.2em;}#sk-container-id-3 div.sk-label-container {text-align: center;}#sk-container-id-3 div.sk-container {/* jupyter's `normalize.less` sets `[hidden] { display: none; }` but bootstrap.min.css set `[hidden] { display: none !important; }` so we also need the `!important` here to be able to override the default hidden behavior on the sphinx rendered scikit-learn.org. See: https://github.com/scikit-learn/scikit-learn/issues/21755 */display: inline-block !important;position: relative;}#sk-container-id-3 div.sk-text-repr-fallback {display: none;}</style><div id=\"sk-container-id-3\" class=\"sk-top-container\"><div class=\"sk-text-repr-fallback\"><pre>RandomForestClassifier(random_state=42)</pre><b>In a Jupyter environment, please rerun this cell to show the HTML representation or trust the notebook. <br />On GitHub, the HTML representation is unable to render, please try loading this page with nbviewer.org.</b></div><div class=\"sk-container\" hidden><div class=\"sk-item\"><div class=\"sk-estimator sk-toggleable\"><input class=\"sk-toggleable__control sk-hidden--visually\" id=\"sk-estimator-id-3\" type=\"checkbox\" checked><label for=\"sk-estimator-id-3\" class=\"sk-toggleable__label sk-toggleable__label-arrow\">RandomForestClassifier</label><div class=\"sk-toggleable__content\"><pre>RandomForestClassifier(random_state=42)</pre></div></div></div></div></div>"
      ],
      "text/plain": [
       "RandomForestClassifier(random_state=42)"
      ]
     },
     "execution_count": 92,
     "metadata": {},
     "output_type": "execute_result"
    }
   ],
   "source": [
    "rfm.fit(X_train, y_train)"
   ]
  },
  {
   "cell_type": "code",
   "execution_count": 94,
   "id": "2bb2016b-bccb-4017-a2ee-604449342212",
   "metadata": {},
   "outputs": [],
   "source": [
    "y_pred = rfm.predict(X_test)"
   ]
  },
  {
   "cell_type": "code",
   "execution_count": 95,
   "id": "1bc5527b-1b53-4dd0-8c08-e9e12e49af68",
   "metadata": {},
   "outputs": [
    {
     "name": "stdout",
     "output_type": "stream",
     "text": [
      "              precision    recall  f1-score   support\n",
      "\n",
      "           0       1.00      1.00      1.00     37646\n",
      "           1       0.99      1.00      0.99     11538\n",
      "\n",
      "    accuracy                           1.00     49184\n",
      "   macro avg       0.99      1.00      1.00     49184\n",
      "weighted avg       1.00      1.00      1.00     49184\n",
      "\n",
      "Accuracy Score:  0.9971332140533506\n",
      "F1 Score:  0.9939231995862604\n"
     ]
    },
    {
     "data": {
      "text/plain": [
       "(None, None, None)"
      ]
     },
     "execution_count": 95,
     "metadata": {},
     "output_type": "execute_result"
    }
   ],
   "source": [
    "print(classification_report(y_pred,y_test)),print('Accuracy Score: ',accuracy_score(y_pred,y_test)),print('F1 Score: ',f1_score(y_pred,y_test))"
   ]
  },
  {
   "cell_type": "markdown",
   "id": "f27f892b-2427-452c-a23c-2f92b1127a3c",
   "metadata": {},
   "source": [
    "## Saving Models"
   ]
  },
  {
   "cell_type": "code",
   "execution_count": 102,
   "id": "25503702-1022-47fa-be0a-efb21cf64a7f",
   "metadata": {},
   "outputs": [],
   "source": [
    "from joblib import dump,load"
   ]
  },
  {
   "cell_type": "code",
   "execution_count": 99,
   "id": "ed452505-be4b-48b8-bb88-d3c17e4ea460",
   "metadata": {},
   "outputs": [
    {
     "data": {
      "text/plain": [
       "['random_forest_144_features.joblib']"
      ]
     },
     "execution_count": 99,
     "metadata": {},
     "output_type": "execute_result"
    }
   ],
   "source": [
    "filename = 'random_forest_144_features.joblib'\n",
    "dump(rfc, filename)"
   ]
  },
  {
   "cell_type": "code",
   "execution_count": 100,
   "id": "822dc207-76d9-465f-8000-1a92eab8ba92",
   "metadata": {},
   "outputs": [
    {
     "data": {
      "text/plain": [
       "['random_forest_30_features.joblib']"
      ]
     },
     "execution_count": 100,
     "metadata": {},
     "output_type": "execute_result"
    }
   ],
   "source": [
    "filename = 'random_forest_30_features.joblib'\n",
    "dump(rfm, filename)"
   ]
  },
  {
   "cell_type": "markdown",
   "id": "590b5949-baa9-40c9-af7b-bcd8e5699c72",
   "metadata": {},
   "source": [
    "## Loading Models For Verification"
   ]
  },
  {
   "cell_type": "code",
   "execution_count": 103,
   "id": "df156f37-9d92-49c2-b426-62c24a0a0340",
   "metadata": {},
   "outputs": [],
   "source": [
    "loaded_model = load('random_forest_30_features.joblib')"
   ]
  },
  {
   "cell_type": "code",
   "execution_count": 104,
   "id": "e1cda300-ed09-4dc7-be83-6bb8db96674b",
   "metadata": {},
   "outputs": [],
   "source": [
    "y_pred_1 = loaded_model.predict(X_test)"
   ]
  },
  {
   "cell_type": "code",
   "execution_count": 105,
   "id": "50d68745-3d08-4049-90e2-bf5b2f71da92",
   "metadata": {},
   "outputs": [
    {
     "name": "stdout",
     "output_type": "stream",
     "text": [
      "              precision    recall  f1-score   support\n",
      "\n",
      "           0       1.00      1.00      1.00     37646\n",
      "           1       0.99      1.00      0.99     11538\n",
      "\n",
      "    accuracy                           1.00     49184\n",
      "   macro avg       0.99      1.00      1.00     49184\n",
      "weighted avg       1.00      1.00      1.00     49184\n",
      "\n",
      "Accuracy Score:  0.9971332140533506\n",
      "F1 Score:  0.9939231995862604\n"
     ]
    },
    {
     "data": {
      "text/plain": [
       "(None, None, None)"
      ]
     },
     "execution_count": 105,
     "metadata": {},
     "output_type": "execute_result"
    }
   ],
   "source": [
    "print(classification_report(y_pred_1,y_test)),print('Accuracy Score: ',accuracy_score(y_pred_1,y_test)),print('F1 Score: ',f1_score(y_pred_1,y_test))"
   ]
  },
  {
   "cell_type": "markdown",
   "id": "9a7b3a71-ac3e-46a1-a821-2befc12c62c4",
   "metadata": {},
   "source": [
    "Loaded Successfully. :)  "
   ]
  },
  {
   "cell_type": "markdown",
   "id": "32da2333-c36e-4aad-b22c-e1e625bf030c",
   "metadata": {},
   "source": [
    "**Comments:** "
   ]
  },
  {
   "cell_type": "markdown",
   "id": "464cbf3d-6a8d-45db-87f8-b90da5536f3b",
   "metadata": {},
   "source": [
    "1. Models got good level of accuracy \n",
    "2. 30 features are selected \n",
    "3. Same level of accuracy attained on Test Set."
   ]
  },
  {
   "cell_type": "code",
   "execution_count": null,
   "id": "2eba25a0-bc62-46f7-9f35-093db38ca58a",
   "metadata": {},
   "outputs": [],
   "source": []
  }
 ],
 "metadata": {
  "kernelspec": {
   "display_name": "Python 3 (ipykernel)",
   "language": "python",
   "name": "python3"
  },
  "language_info": {
   "codemirror_mode": {
    "name": "ipython",
    "version": 3
   },
   "file_extension": ".py",
   "mimetype": "text/x-python",
   "name": "python",
   "nbconvert_exporter": "python",
   "pygments_lexer": "ipython3",
   "version": "3.9.16"
  }
 },
 "nbformat": 4,
 "nbformat_minor": 5
}
